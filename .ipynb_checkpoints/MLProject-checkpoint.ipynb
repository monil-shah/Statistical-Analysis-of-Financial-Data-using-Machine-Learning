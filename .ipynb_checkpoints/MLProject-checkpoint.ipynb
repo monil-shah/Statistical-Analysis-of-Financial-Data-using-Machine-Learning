{
 "cells": [
  {
   "cell_type": "markdown",
   "metadata": {},
   "source": [
    "# Machine Learning Project\n",
    "\n",
    "## Ingest Quandl data"
   ]
  },
  {
   "cell_type": "code",
   "execution_count": 1,
   "metadata": {
    "collapsed": true
   },
   "outputs": [],
   "source": [
    "import quandl\n",
    "import numpy as np\n",
    "import pandas as pd\n",
    "\n",
    "\n",
    "mydata = quandl.get(\"WIKI/AAPL\", start_date=\"1979-12-31\", end_date=\"2016-12-31\")\n",
    "mydata.to_csv(\"/Users/tabish/MLProject/AAPL_stock_data.csv\")"
   ]
  },
  {
   "cell_type": "markdown",
   "metadata": {},
   "source": [
    "## Profile Data"
   ]
  },
  {
   "cell_type": "code",
   "execution_count": 1,
   "metadata": {
    "collapsed": false
   },
   "outputs": [
    {
     "name": "stdout",
     "output_type": "stream",
     "text": [
      "Open 702.41 11.12 99.3892337891\n",
      "High 705.07 11.12 100.62762339\n",
      "Low 699.57 11.0 98.0417634649\n",
      "Close 702.1 11.0 99.3461037053\n",
      "Volume 189560600.0 4471.0 11372202.4906\n",
      "Ex-Dividend 3.29 0.0 0.0035013233348\n",
      "Split Ratio 7.0 1.0 1.0009925011\n",
      "Adj. Open 129.837026407 0.165539957185 17.0407814803\n",
      "Adj. High 129.919107008 0.165539957185 17.2141454152\n",
      "Adj. Low 127.413707108 0.163753554769 16.8491803699\n",
      "Adj. Close 128.519122831 0.163753554769 17.0345284182\n",
      "Adj. Volume 1855410200.0 250376.0 90793242.1802\n"
     ]
    }
   ],
   "source": [
    "data = pd.read_csv(\"/Users/tabish/MLProject/AAPL_stock_data.csv\", index_col=\"Date\")\n",
    "columns = data.columns.values\n",
    "\n",
    "for column in columns:\n",
    "        if column != \"Date\":\n",
    "                print column, data[column].max(), data[column].min(), data[column].mean()"
   ]
  },
  {
   "cell_type": "markdown",
   "metadata": {},
   "source": [
    "## Model Data"
   ]
  },
  {
   "cell_type": "code",
   "execution_count": 2,
   "metadata": {
    "collapsed": false
   },
   "outputs": [
    {
     "name": "stdout",
     "output_type": "stream",
     "text": [
      "KNN Score =  0.997181845541\n",
      "Kernel Ridge =  0.323574644214\n"
     ]
    }
   ],
   "source": [
    "data.index = pd.to_datetime(data.index, format=\"%Y-%m-%d\")\n",
    "X = (data.index - data.index[0]).days.reshape(-1,1)\n",
    "y = data[\"Close\"].values\n",
    "\n",
    "from sklearn.neighbors import KNeighborsRegressor\n",
    "from sklearn.linear_model import LinearRegression\n",
    "from sklearn.kernel_ridge import KernelRidge\n",
    "from sklearn.model_selection import train_test_split\n",
    "from sklearn.model_selection import GridSearchCV\n",
    "\n",
    "X_train, X_test, y_train, y_test = train_test_split(X, y, test_size=0.33)\n",
    "\n",
    "knn = KNeighborsRegressor()\n",
    "lr = KernelRidge()\n",
    "\n",
    "lr.fit(X_train, y_train)\n",
    "knn.fit(X_train, y_train)\n",
    "\n",
    "print \"KNN Score = \", knn.score(X_test, y_test)\n",
    "print \"Kernel Ridge = \", lr.score(X_test, y_test)\n",
    "\n",
    "#krGrid = GridSearchCV(KernelRidge(kernel='rbf', gamma=0.1), cv=5, param_grid={\"alpha\": [1e0, 0.1, 1e-2, 1e-3], \"gamma\": np.logspace(-2, 2, 5)})\n",
    "#krGrid.fit(X_train, y_train)\n",
    "\n",
    "#print krGrid.score(X_test, y_test)\n",
    "#print grid_search.cv_results_\n",
    "\n"
   ]
  },
  {
   "cell_type": "markdown",
   "metadata": {},
   "source": [
    "## Evaluate using K fold"
   ]
  },
  {
   "cell_type": "code",
   "execution_count": null,
   "metadata": {
    "collapsed": true
   },
   "outputs": [],
   "source": []
  }
 ],
 "metadata": {
  "anaconda-cloud": {},
  "kernelspec": {
   "display_name": "Python [Root]",
   "language": "python",
   "name": "Python [Root]"
  },
  "language_info": {
   "codemirror_mode": {
    "name": "ipython",
    "version": 3
   },
   "file_extension": ".py",
   "mimetype": "text/x-python",
   "name": "python",
   "nbconvert_exporter": "python",
   "pygments_lexer": "ipython3",
   "version": "3.5.2"
  }
 },
 "nbformat": 4,
 "nbformat_minor": 0
}
